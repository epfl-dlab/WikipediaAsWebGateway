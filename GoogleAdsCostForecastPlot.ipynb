{
 "cells": [
  {
   "cell_type": "markdown",
   "metadata": {},
   "source": [
    "# Estimate the economic value of the clicks"
   ]
  },
  {
   "cell_type": "code",
   "execution_count": 1,
   "metadata": {},
   "outputs": [],
   "source": [
    "import pyspark\n",
    "import re\n",
    "import pyspark.sql\n",
    "from pyspark.sql import *\n",
    "import pandas as pd\n",
    "import matplotlib.pyplot as plt\n",
    "import hashlib\n",
    "import os.path\n",
    "from pyspark.sql.functions import *\n",
    "from datetime import timedelta, date\n",
    "import json\n",
    "from pyspark.sql.types import *\n",
    "import sys\n",
    "import urllib.parse\n",
    "import builtins\n",
    "import pandas as pd\n",
    "pd.set_option('display.float_format', lambda x: '%.3f' % x)\n",
    "from pyspark.ml.feature import CountVectorizer\n",
    "import numpy as np\n",
    "\n",
    "%matplotlib inline\n",
    "spark = sqlContext = SQLContext(sc)"
   ]
  },
  {
   "cell_type": "markdown",
   "metadata": {},
   "source": [
    "Load the estimate cost for the websites:"
   ]
  },
  {
   "cell_type": "code",
   "execution_count": 2,
   "metadata": {},
   "outputs": [
    {
     "data": {
      "text/html": [
       "<div>\n",
       "<style scoped>\n",
       "    .dataframe tbody tr th:only-of-type {\n",
       "        vertical-align: middle;\n",
       "    }\n",
       "\n",
       "    .dataframe tbody tr th {\n",
       "        vertical-align: top;\n",
       "    }\n",
       "\n",
       "    .dataframe thead th {\n",
       "        text-align: right;\n",
       "    }\n",
       "</style>\n",
       "<table border=\"1\" class=\"dataframe\">\n",
       "  <thead>\n",
       "    <tr style=\"text-align: right;\">\n",
       "      <th></th>\n",
       "      <th>average_cpc</th>\n",
       "      <th>domain</th>\n",
       "      <th>keywords</th>\n",
       "      <th>link_url</th>\n",
       "      <th>title</th>\n",
       "    </tr>\n",
       "  </thead>\n",
       "  <tbody>\n",
       "    <tr>\n",
       "      <th>3567</th>\n",
       "      <td>490132.921</td>\n",
       "      <td>www.michaelball.co.uk</td>\n",
       "      <td>[{'id': 'customers/6244703025/keywordPlanKeywo...</td>\n",
       "      <td>http://www.michaelball.co.uk/</td>\n",
       "      <td>Michael Ball</td>\n",
       "    </tr>\n",
       "    <tr>\n",
       "      <th>1506</th>\n",
       "      <td>447018.031</td>\n",
       "      <td>www.95triplex.com</td>\n",
       "      <td>[{'id': 'customers/6244703025/keywordPlanKeywo...</td>\n",
       "      <td>http://www.95triplex.com/</td>\n",
       "      <td>WXXX</td>\n",
       "    </tr>\n",
       "    <tr>\n",
       "      <th>3582</th>\n",
       "      <td>603282.429</td>\n",
       "      <td>questvisual.com</td>\n",
       "      <td>[{'id': 'customers/6244703025/keywordPlanKeywo...</td>\n",
       "      <td>http://questvisual.com/</td>\n",
       "      <td>Word Lens</td>\n",
       "    </tr>\n",
       "    <tr>\n",
       "      <th>1420</th>\n",
       "      <td>497872.021</td>\n",
       "      <td>npb.jp</td>\n",
       "      <td>[{'id': 'customers/6244703025/keywordPlanKeywo...</td>\n",
       "      <td>http://npb.jp/eng/</td>\n",
       "      <td>Nippon Professional Baseball</td>\n",
       "    </tr>\n",
       "    <tr>\n",
       "      <th>2887</th>\n",
       "      <td>1862515.720</td>\n",
       "      <td>www.gop.com</td>\n",
       "      <td>[{'id': 'customers/6244703025/keywordPlanKeywo...</td>\n",
       "      <td>https://www.gop.com/</td>\n",
       "      <td>Republican Party (United States)</td>\n",
       "    </tr>\n",
       "  </tbody>\n",
       "</table>\n",
       "</div>"
      ],
      "text/plain": [
       "      average_cpc                 domain  \\\n",
       "3567   490132.921  www.michaelball.co.uk   \n",
       "1506   447018.031      www.95triplex.com   \n",
       "3582   603282.429        questvisual.com   \n",
       "1420   497872.021                 npb.jp   \n",
       "2887  1862515.720            www.gop.com   \n",
       "\n",
       "                                               keywords  \\\n",
       "3567  [{'id': 'customers/6244703025/keywordPlanKeywo...   \n",
       "1506  [{'id': 'customers/6244703025/keywordPlanKeywo...   \n",
       "3582  [{'id': 'customers/6244703025/keywordPlanKeywo...   \n",
       "1420  [{'id': 'customers/6244703025/keywordPlanKeywo...   \n",
       "2887  [{'id': 'customers/6244703025/keywordPlanKeywo...   \n",
       "\n",
       "                           link_url                             title  \n",
       "3567  http://www.michaelball.co.uk/                      Michael Ball  \n",
       "1506      http://www.95triplex.com/                              WXXX  \n",
       "3582        http://questvisual.com/                         Word Lens  \n",
       "1420             http://npb.jp/eng/      Nippon Professional Baseball  \n",
       "2887           https://www.gop.com/  Republican Party (United States)  "
      ]
     },
     "execution_count": 2,
     "metadata": {},
     "output_type": "execute_result"
    }
   ],
   "source": [
    "forecasts = pd.read_json(\"forecasts_last.json\", lines=True).sample(frac=1.0)\n",
    "forecasts.head()"
   ]
  },
  {
   "cell_type": "code",
   "execution_count": 3,
   "metadata": {},
   "outputs": [
    {
     "data": {
      "text/plain": [
       "3645"
      ]
     },
     "execution_count": 3,
     "metadata": {},
     "output_type": "execute_result"
    }
   ],
   "source": [
    "len(forecasts)"
   ]
  },
  {
   "cell_type": "markdown",
   "metadata": {},
   "source": [
    "Merge with the actual number of clicks to get a weighted estimation:"
   ]
  },
  {
   "cell_type": "code",
   "execution_count": 4,
   "metadata": {},
   "outputs": [
    {
     "name": "stdout",
     "output_type": "stream",
     "text": [
      "+--------------------+------------+------------------+--------------------+--------------------+--------------------+\n",
      "|            link_url|total_clicks|       average_cpc|              domain|            keywords|               title|\n",
      "+--------------------+------------+------------------+--------------------+--------------------+--------------------+\n",
      "|http://erwinmcman...|         208|1742069.7921111502|    erwinmcmanus.com|[[clicks -> 10.04...|       Erwin McManus|\n",
      "|http://nudes-a-po...|         608|1243357.9990415382|  nudes-a-poppin.com|[[clicks -> 9.183...|     Nudes-A-Poppin'|\n",
      "|http://www.asiaca...|        1389|273810.36296203325| www.asiacarrera.com|[[clicks -> 0.0, ...|        Asia Carrera|\n",
      "|http://www.dhamma...|         214| 557774.1202156399|      www.dhamma.org|[[clicks -> 37.10...|        S. N. Goenka|\n",
      "|http://www.fudan....|         227|  4639365.75351472|    www.fudan.edu.cn|[[clicks -> 26575...|    Fudan University|\n",
      "|http://www.johnny...|         289|1169302.3384790602|www.johnnymathis.com|[[clicks -> 541.4...|       Johnny Mathis|\n",
      "|http://www.loewsh...|         323|1630179.6798635777| www.loewshotels.com|[[clicks -> 28.25...|Loews Portofino B...|\n",
      "|http://www.nhm.ac...|         223|1051247.7888714725|       www.nhm.ac.uk|[[clicks -> 127.2...|Natural History M...|\n",
      "|http://www.nilein...|          30| 1780856.190130952|www.nileinternati...|[[clicks -> 0.0, ...|Nile TV Internati...|\n",
      "|http://www.sabic....|         248|1137557.9335967293|       www.sabic.com|[[clicks -> 1308....|               SABIC|\n",
      "|https://www.baske...|         131|2500478.1638769233|www.basketball-re...|[[clicks -> 33.31...|         Joel Embiid|\n",
      "|https://www.ncaa....|         393| 679809.1967715748|        www.ncaa.com|[[clicks -> 0.0, ...|National Collegia...|\n",
      "|https://www.plane...|        2929| 967197.9435784529| www.planetromeo.com|[[clicks -> 44.20...|         PlanetRomeo|\n",
      "|https://www.youtu...|         134|195403.22401278338|     www.youtube.com|[[clicks -> 0.0, ...|Havana (Camila Ca...|\n",
      "|http://bbc.co.uk/...|         161|385910.73567117495|           bbc.co.uk|[[clicks -> 36.19...|   BBC World Service|\n",
      "|http://formula1.com/|         817| 529869.0852038785|        formula1.com|[[clicks -> 237.7...|         Formula One|\n",
      "|http://humanetech...|         263| 1480903.254545439|      humanetech.com|[[clicks -> 0.0, ...|Center for Humane...|\n",
      "|http://iopscience...|          47|   786583.34212653|      iopscience.org|[[clicks -> 9.852...|Journal of Physic...|\n",
      "|  http://lnb.com.br/|         261| 647144.1651268656|          lnb.com.br|[[clicks -> 0.0, ...|Novo Basquete Brasil|\n",
      "|http://www.apub.com/|          91|1010706.0718893635|        www.apub.com|[[clicks -> 3685....|   Amazon Publishing|\n",
      "+--------------------+------------+------------------+--------------------+--------------------+--------------------+\n",
      "only showing top 20 rows\n",
      "\n"
     ]
    }
   ],
   "source": [
    "forecasts_df = spark.createDataFrame(forecasts)\n",
    "\n",
    "filter_30_days = \"event_time >= '2019-03-24' AND event_time <= '2019-04-20' AND page_id > 0\"\n",
    "\n",
    "# Load click logs\n",
    "anonymous_citationusage = spark.read.parquet(\"april_anonymous_citationusage.parquet\")\\\n",
    "                                            .where(filter_30_days)\\\n",
    "                                            .where(\"action='extClick' and link_url not like '%.wikipedia.org%'\")\n",
    "\n",
    "clicks_count = anonymous_citationusage.groupBy(\"link_url\")\\\n",
    "                    .agg(count(\"*\").alias(\"total_clicks\"))\\\n",
    "                    .sort(col(\"total_clicks\").desc())\n",
    "\n",
    "links = clicks_count.join(forecasts_df, \"link_url\").cache()\n",
    "links.show()"
   ]
  },
  {
   "cell_type": "code",
   "execution_count": 5,
   "metadata": {},
   "outputs": [],
   "source": [
    "cpc = links.select(\"link_url\", \"total_clicks\", \"average_cpc\").toPandas()"
   ]
  },
  {
   "cell_type": "markdown",
   "metadata": {},
   "source": [
    "Get the total number of clicks represented by the domains in the sample:"
   ]
  },
  {
   "cell_type": "code",
   "execution_count": 6,
   "metadata": {},
   "outputs": [
    {
     "data": {
      "text/plain": [
       "2738342"
      ]
     },
     "execution_count": 6,
     "metadata": {},
     "output_type": "execute_result"
    }
   ],
   "source": [
    "cpc['total_clicks'].sum()"
   ]
  },
  {
   "cell_type": "markdown",
   "metadata": {},
   "source": [
    "Get the total cost for each link:"
   ]
  },
  {
   "cell_type": "code",
   "execution_count": 7,
   "metadata": {},
   "outputs": [],
   "source": [
    "cpc['total'] = cpc['total_clicks']*cpc['average_cpc']"
   ]
  },
  {
   "cell_type": "markdown",
   "metadata": {},
   "source": [
    "Total value of the links in this sample:"
   ]
  },
  {
   "cell_type": "code",
   "execution_count": 8,
   "metadata": {},
   "outputs": [
    {
     "name": "stdout",
     "output_type": "stream",
     "text": [
      "$3774343.3661565674\n"
     ]
    }
   ],
   "source": [
    "print(\"${}\".format(cpc.total.sum()/1000000))"
   ]
  },
  {
   "cell_type": "code",
   "execution_count": 9,
   "metadata": {},
   "outputs": [
    {
     "data": {
      "text/html": [
       "<div>\n",
       "<style scoped>\n",
       "    .dataframe tbody tr th:only-of-type {\n",
       "        vertical-align: middle;\n",
       "    }\n",
       "\n",
       "    .dataframe tbody tr th {\n",
       "        vertical-align: top;\n",
       "    }\n",
       "\n",
       "    .dataframe thead th {\n",
       "        text-align: right;\n",
       "    }\n",
       "</style>\n",
       "<table border=\"1\" class=\"dataframe\">\n",
       "  <thead>\n",
       "    <tr style=\"text-align: right;\">\n",
       "      <th></th>\n",
       "      <th>link_url</th>\n",
       "      <th>total_clicks</th>\n",
       "      <th>in_dollars_str</th>\n",
       "      <th>total_in_dollars_str</th>\n",
       "    </tr>\n",
       "  </thead>\n",
       "  <tbody>\n",
       "    <tr>\n",
       "      <th>0</th>\n",
       "      <td>http://erwinmcmanus.com/</td>\n",
       "      <td>208</td>\n",
       "      <td>$1.7</td>\n",
       "      <td>$362.0</td>\n",
       "    </tr>\n",
       "    <tr>\n",
       "      <th>1</th>\n",
       "      <td>http://nudes-a-poppin.com/nap2010new/</td>\n",
       "      <td>608</td>\n",
       "      <td>$1.2</td>\n",
       "      <td>$755.0</td>\n",
       "    </tr>\n",
       "    <tr>\n",
       "      <th>2</th>\n",
       "      <td>http://www.asiacarrera.com/</td>\n",
       "      <td>1389</td>\n",
       "      <td>$0.27</td>\n",
       "      <td>$380.0</td>\n",
       "    </tr>\n",
       "    <tr>\n",
       "      <th>3</th>\n",
       "      <td>http://www.dhamma.org/en/</td>\n",
       "      <td>214</td>\n",
       "      <td>$0.56</td>\n",
       "      <td>$119.0</td>\n",
       "    </tr>\n",
       "    <tr>\n",
       "      <th>4</th>\n",
       "      <td>http://www.fudan.edu.cn/</td>\n",
       "      <td>227</td>\n",
       "      <td>$4.6</td>\n",
       "      <td>$1053.0</td>\n",
       "    </tr>\n",
       "    <tr>\n",
       "      <th>5</th>\n",
       "      <td>http://www.johnnymathis.com/</td>\n",
       "      <td>289</td>\n",
       "      <td>$1.2</td>\n",
       "      <td>$337.0</td>\n",
       "    </tr>\n",
       "    <tr>\n",
       "      <th>6</th>\n",
       "      <td>http://www.loewshotels.com/Portofino-Bay-Hotel</td>\n",
       "      <td>323</td>\n",
       "      <td>$1.6</td>\n",
       "      <td>$526.0</td>\n",
       "    </tr>\n",
       "    <tr>\n",
       "      <th>7</th>\n",
       "      <td>http://www.nhm.ac.uk/</td>\n",
       "      <td>223</td>\n",
       "      <td>$1.1</td>\n",
       "      <td>$234.0</td>\n",
       "    </tr>\n",
       "    <tr>\n",
       "      <th>8</th>\n",
       "      <td>http://www.nileinternational.net/</td>\n",
       "      <td>30</td>\n",
       "      <td>$1.8</td>\n",
       "      <td>$53.0</td>\n",
       "    </tr>\n",
       "    <tr>\n",
       "      <th>9</th>\n",
       "      <td>http://www.sabic.com/</td>\n",
       "      <td>248</td>\n",
       "      <td>$1.1</td>\n",
       "      <td>$282.0</td>\n",
       "    </tr>\n",
       "  </tbody>\n",
       "</table>\n",
       "</div>"
      ],
      "text/plain": [
       "                                         link_url  total_clicks  \\\n",
       "0                        http://erwinmcmanus.com/           208   \n",
       "1           http://nudes-a-poppin.com/nap2010new/           608   \n",
       "2                     http://www.asiacarrera.com/          1389   \n",
       "3                       http://www.dhamma.org/en/           214   \n",
       "4                        http://www.fudan.edu.cn/           227   \n",
       "5                    http://www.johnnymathis.com/           289   \n",
       "6  http://www.loewshotels.com/Portofino-Bay-Hotel           323   \n",
       "7                           http://www.nhm.ac.uk/           223   \n",
       "8               http://www.nileinternational.net/            30   \n",
       "9                           http://www.sabic.com/           248   \n",
       "\n",
       "  in_dollars_str total_in_dollars_str  \n",
       "0           $1.7               $362.0  \n",
       "1           $1.2               $755.0  \n",
       "2          $0.27               $380.0  \n",
       "3          $0.56               $119.0  \n",
       "4           $4.6              $1053.0  \n",
       "5           $1.2               $337.0  \n",
       "6           $1.6               $526.0  \n",
       "7           $1.1               $234.0  \n",
       "8           $1.8                $53.0  \n",
       "9           $1.1               $282.0  "
      ]
     },
     "execution_count": 9,
     "metadata": {},
     "output_type": "execute_result"
    }
   ],
   "source": [
    "cpc['in_dollars'] = cpc['average_cpc'].apply(lambda r: r/1000000)\n",
    "cpc['in_dollars_str'] = cpc['average_cpc'].apply(lambda r: \"${:.2}\".format(r/1000000))\n",
    "cpc['total_in_dollars'] = cpc['total'].apply(lambda r: r//1000000)\n",
    "cpc['total_in_dollars_str'] = cpc['total'].apply(lambda r: \"${}\".format(r//1000000))\n",
    "\n",
    "\n",
    "cpc[['link_url', 'total_clicks', 'in_dollars_str', 'total_in_dollars_str']].head(10)"
   ]
  },
  {
   "cell_type": "markdown",
   "metadata": {},
   "source": [
    "Get weighted mean:"
   ]
  },
  {
   "cell_type": "code",
   "execution_count": 10,
   "metadata": {},
   "outputs": [
    {
     "name": "stdout",
     "output_type": "stream",
     "text": [
      "W Mean: $1647913.9061034522\n",
      "W Median: $903399.9178036167\n"
     ]
    }
   ],
   "source": [
    "all_clicks = []\n",
    "for i, r in cpc.iterrows():\n",
    "    for c in range(0, r.total_clicks):\n",
    "        all_clicks.append(r.average_cpc)\n",
    "        \n",
    "weighted_median = np.median(all_clicks)/1000000\n",
    "weighted_mean = np.mean(all_clicks)/1000000\n",
    "\n",
    "print(\"W Mean: ${}\".format(cpc.average_cpc.mean()))\n",
    "print(\"W Median: ${}\".format(cpc.average_cpc.median()))"
   ]
  },
  {
   "cell_type": "markdown",
   "metadata": {},
   "source": [
    "Plot the distribution:"
   ]
  },
  {
   "cell_type": "code",
   "execution_count": 13,
   "metadata": {},
   "outputs": [
    {
     "data": {
      "text/plain": [
       "<Figure size 360x216 with 0 Axes>"
      ]
     },
     "metadata": {},
     "output_type": "display_data"
    },
    {
     "data": {
      "image/png": "[encoded data removed]",
      "text/plain": [
       "<Figure size 576x360 with 1 Axes>"
      ]
     },
     "metadata": {},
     "output_type": "display_data"
    }
   ],
   "source": [
    "import matplotlib.pyplot as plt\n",
    "import numpy as np\n",
    "import scipy.stats as sts\n",
    "import seaborn as sns\n",
    "from matplotlib.lines import Line2D\n",
    "\n",
    "plt.figure(figsize=(5, 3), frameon=False)\n",
    "\n",
    "sns.set_context(\"paper\")\n",
    "sns.set(font_scale = 1.1)\n",
    "sns.set_style(\"white\", {\n",
    "    \"font.family\": \"sans-serif\",\n",
    "    \"font.serif\": ['Helvetica'],\n",
    "    \"font.scale\": 2\n",
    "})\n",
    "sns.set_style(\"ticks\", {\"xtick.major.size\": 4,\n",
    "                        \"ytick.major.size\": 4})\n",
    "\n",
    "# n = 100000\n",
    "samples = cpc[cpc.in_dollars<5].in_dollars\n",
    "\n",
    "# generate some random multimodal histogram data\n",
    "h,e = np.histogram(samples, bins=50, density=True)\n",
    "hnn,enn = np.histogram(samples, bins=50)\n",
    "x = np.linspace(e.min(), e.max())\n",
    "\n",
    "# plot the histogram\n",
    "plt.figure(figsize=(8,5))\n",
    "plt.bar(e[:-1], h, width=np.diff(e), ec='k', align='edge', label='histogram', alpha=0.3)\n",
    "\n",
    "plt.ylabel(\"Number of websites\")\n",
    "plt.xlabel(\"Average cost per click [US$]\")\n",
    "\n",
    "plt.axvline(x=weighted_mean, c=\"k\", linestyle=\":\", linewidth=3)\n",
    "plt.axvline(x=weighted_median, c=\"r\", linestyle=\"--\", linewidth=3)\n",
    "\n",
    "\n",
    "max_val = int((builtins.max(hnn)/builtins.max(h))*0.8)\n",
    "steps = [x/10 for x in range(0, 9)]\n",
    "plt.yticks(steps, [x for x in range(0, max_val, max_val//(len(steps)-1))])\n",
    "\n",
    "ax = plt.gca()\n",
    "ax.spines['right'].set_visible(False)\n",
    "ax.spines['top'].set_visible(False)\n",
    "\n",
    "ax.set_xlim(0,5)\n",
    "\n",
    "\n",
    "custom_lines = [Line2D([0], [0], color='r', lw=3, linestyle=\"--\"),\n",
    "                Line2D([0], [0], color='k', lw=3, linestyle=\":\")]\n",
    "ax.legend(custom_lines, ['Weighted median', 'Weighted mean'], \n",
    "              fancybox=True, framealpha=0.0)\n",
    "\n",
    "plt.tight_layout()\n",
    "# plt.savefig('cost_per_click3000.pdf', bbox_inches='tight')\n",
    "\n",
    "plt.show()"
   ]
  },
  {
   "cell_type": "code",
   "execution_count": null,
   "metadata": {},
   "outputs": [],
   "source": []
  }
 ],
 "metadata": {
  "kernelspec": {
   "display_name": "PySpark - YARN",
   "language": "python",
   "name": "spark_yarn_pyspark"
  },
  "language_info": {
   "codemirror_mode": {
    "name": "ipython",
    "version": 3
   },
   "file_extension": ".py",
   "mimetype": "text/x-python",
   "name": "python",
   "nbconvert_exporter": "python",
   "pygments_lexer": "ipython3",
   "version": "3.7.3"
  }
 },
 "nbformat": 4,
 "nbformat_minor": 4
}
