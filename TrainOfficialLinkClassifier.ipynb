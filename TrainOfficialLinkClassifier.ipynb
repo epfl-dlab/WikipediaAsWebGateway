{
 "cells": [
  {
   "cell_type": "markdown",
   "metadata": {},
   "source": [
    "## Evaluate the performance of the official link classifier with cross-validation"
   ]
  },
  {
   "cell_type": "code",
   "execution_count": 1,
   "metadata": {},
   "outputs": [
    {
     "data": {
      "text/html": [
       "<div>\n",
       "<style scoped>\n",
       "    .dataframe tbody tr th:only-of-type {\n",
       "        vertical-align: middle;\n",
       "    }\n",
       "\n",
       "    .dataframe tbody tr th {\n",
       "        vertical-align: top;\n",
       "    }\n",
       "\n",
       "    .dataframe thead th {\n",
       "        text-align: right;\n",
       "    }\n",
       "</style>\n",
       "<table border=\"1\" class=\"dataframe\">\n",
       "  <thead>\n",
       "    <tr style=\"text-align: right;\">\n",
       "      <th></th>\n",
       "      <th>index</th>\n",
       "      <th>context</th>\n",
       "      <th>features</th>\n",
       "      <th>link</th>\n",
       "      <th>link_path</th>\n",
       "      <th>official</th>\n",
       "      <th>page_id</th>\n",
       "      <th>title</th>\n",
       "    </tr>\n",
       "  </thead>\n",
       "  <tbody>\n",
       "    <tr>\n",
       "      <th>0</th>\n",
       "      <td>0</td>\n",
       "      <td>Website</td>\n",
       "      <td>[0.0, 1, 0, 1, 0.044444444444444446, 0.0465116...</td>\n",
       "      <td>nasedkin-badanina.com</td>\n",
       "      <td>/</td>\n",
       "      <td>1</td>\n",
       "      <td>39463634</td>\n",
       "      <td>Tatiana Badanina</td>\n",
       "    </tr>\n",
       "    <tr>\n",
       "      <th>1</th>\n",
       "      <td>1</td>\n",
       "      <td></td>\n",
       "      <td>[0.03571428571428571, 15, 0, 67, 0.0, 0.0, 0.0...</td>\n",
       "      <td>www.uniprot.org</td>\n",
       "      <td>/uniprot/P32780</td>\n",
       "      <td>1</td>\n",
       "      <td>14989135</td>\n",
       "      <td>GTF2H1</td>\n",
       "    </tr>\n",
       "    <tr>\n",
       "      <th>2</th>\n",
       "      <td>2</td>\n",
       "      <td>Website</td>\n",
       "      <td>[0.0, 1, 0, 1, 0.48, 0.42857142857142855, 0.04...</td>\n",
       "      <td>www.mansory.com</td>\n",
       "      <td>/</td>\n",
       "      <td>1</td>\n",
       "      <td>15677351</td>\n",
       "      <td>Mansory</td>\n",
       "    </tr>\n",
       "    <tr>\n",
       "      <th>3</th>\n",
       "      <td>3</td>\n",
       "      <td>WebsiteOfficial websiteOfficial Facebook</td>\n",
       "      <td>[0.06521739130434782, 11, 0, 3, 0.48, 0.09375,...</td>\n",
       "      <td>www.twitter.com</td>\n",
       "      <td>/BigRedyyc/</td>\n",
       "      <td>1</td>\n",
       "      <td>23075134</td>\n",
       "      <td>Diane Colley-Urquhart</td>\n",
       "    </tr>\n",
       "    <tr>\n",
       "      <th>4</th>\n",
       "      <td>4</td>\n",
       "      <td>Website</td>\n",
       "      <td>[0.0, 0, 0, 1, 0.48, 0.42857142857142855, 0.04...</td>\n",
       "      <td>www.hcch.net</td>\n",
       "      <td></td>\n",
       "      <td>1</td>\n",
       "      <td>1730612</td>\n",
       "      <td>Hague Conference on Private International Law</td>\n",
       "    </tr>\n",
       "  </tbody>\n",
       "</table>\n",
       "</div>"
      ],
      "text/plain": [
       "   index                                   context  \\\n",
       "0      0                                   Website   \n",
       "1      1                                             \n",
       "2      2                                   Website   \n",
       "3      3  WebsiteOfficial websiteOfficial Facebook   \n",
       "4      4                                   Website   \n",
       "\n",
       "                                            features                   link  \\\n",
       "0  [0.0, 1, 0, 1, 0.044444444444444446, 0.0465116...  nasedkin-badanina.com   \n",
       "1  [0.03571428571428571, 15, 0, 67, 0.0, 0.0, 0.0...        www.uniprot.org   \n",
       "2  [0.0, 1, 0, 1, 0.48, 0.42857142857142855, 0.04...        www.mansory.com   \n",
       "3  [0.06521739130434782, 11, 0, 3, 0.48, 0.09375,...        www.twitter.com   \n",
       "4  [0.0, 0, 0, 1, 0.48, 0.42857142857142855, 0.04...           www.hcch.net   \n",
       "\n",
       "         link_path  official   page_id  \\\n",
       "0                /         1  39463634   \n",
       "1  /uniprot/P32780         1  14989135   \n",
       "2                /         1  15677351   \n",
       "3      /BigRedyyc/         1  23075134   \n",
       "4                          1   1730612   \n",
       "\n",
       "                                           title  \n",
       "0                               Tatiana Badanina  \n",
       "1                                         GTF2H1  \n",
       "2                                        Mansory  \n",
       "3                          Diane Colley-Urquhart  \n",
       "4  Hague Conference on Private International Law  "
      ]
     },
     "execution_count": 1,
     "metadata": {},
     "output_type": "execute_result"
    }
   ],
   "source": [
    "import pandas as pd\n",
    "import numpy as np\n",
    "from sklearn.ensemble import RandomForestClassifier\n",
    "from sklearn.model_selection import cross_validate\n",
    "from sklearn.metrics import auc\n",
    "from sklearn.metrics import plot_roc_curve\n",
    "from sklearn.model_selection import StratifiedKFold\n",
    "import matplotlib.pyplot as plt\n",
    "\n",
    "# Load the traning data woth the features previously extracted\n",
    "training_set = pd.read_pickle(\"data/official_links_training_data.pkl\")\n",
    "training_set.head()"
   ]
  },
  {
   "cell_type": "code",
   "execution_count": 2,
   "metadata": {},
   "outputs": [
    {
     "data": {
      "text/plain": [
       "2000"
      ]
     },
     "execution_count": 2,
     "metadata": {},
     "output_type": "execute_result"
    }
   ],
   "source": [
    "len(training_set)"
   ]
  },
  {
   "cell_type": "code",
   "execution_count": 3,
   "metadata": {},
   "outputs": [],
   "source": [
    "# Features\n",
    "X = np.array(training_set['features'].tolist())\n",
    "# Labels\n",
    "y = training_set['official']"
   ]
  },
  {
   "cell_type": "markdown",
   "metadata": {},
   "source": [
    "Evaluate the performance with 5-folds cross-validation"
   ]
  },
  {
   "cell_type": "code",
   "execution_count": 4,
   "metadata": {},
   "outputs": [
    {
     "name": "stdout",
     "output_type": "stream",
     "text": [
      "Precision: 0.96 (+/- 0.02)\n",
      "Recall: 0.96 (+/- 0.01)\n",
      "F1: 0.96 (+/- 0.01)\n"
     ]
    }
   ],
   "source": [
    "scoring = ['precision_macro', 'recall_macro', 'f1_macro']\n",
    "clf = RandomForestClassifier(max_depth=10, random_state=42)\n",
    "scores = cross_validate(clf, X, y, scoring=scoring, cv=5)\n",
    "print(\"Precision: %0.2f (+/- %0.2f)\" % (scores['test_precision_macro'].mean(), scores['test_precision_macro'].std() * 2))\n",
    "print(\"Recall: %0.2f (+/- %0.2f)\" % (scores['test_recall_macro'].mean(), scores['test_recall_macro'].std() * 2))\n",
    "print(\"F1: %0.2f (+/- %0.2f)\" % (scores['test_f1_macro'].mean(), scores['test_f1_macro'].std() * 2))"
   ]
  },
  {
   "cell_type": "markdown",
   "metadata": {},
   "source": [
    "### ROC Curves"
   ]
  },
  {
   "cell_type": "code",
   "execution_count": 5,
   "metadata": {},
   "outputs": [
    {
     "data": {
      "image/png": "[encoded data removed]",
      "text/plain": [
       "<Figure size 720x432 with 1 Axes>"
      ]
     },
     "metadata": {
      "needs_background": "light"
     },
     "output_type": "display_data"
    }
   ],
   "source": [
    "cv = StratifiedKFold(n_splits=5)\n",
    "classifier = RandomForestClassifier(max_depth=10, random_state=0)\n",
    "\n",
    "tprs = []\n",
    "aucs = []\n",
    "mean_fpr = np.linspace(0, 1, 100)\n",
    "\n",
    "fig, ax = plt.subplots(figsize=(10, 6))\n",
    "for i, (train, test) in enumerate(cv.split(X, y)):\n",
    "    classifier.fit(X[train], y[train])\n",
    "    viz = plot_roc_curve(classifier, X[test], y[test],\n",
    "                         name='ROC fold {}'.format(i),\n",
    "                         alpha=0.3, lw=1, ax=ax)\n",
    "    interp_tpr = np.interp(mean_fpr, viz.fpr, viz.tpr)\n",
    "    interp_tpr[0] = 0.0\n",
    "    tprs.append(interp_tpr)\n",
    "    aucs.append(viz.roc_auc)\n",
    "\n",
    "ax.plot([0, 1], [0, 1], linestyle='--', lw=2, color='r',\n",
    "        label='Chance', alpha=.8)\n",
    "\n",
    "mean_tpr = np.mean(tprs, axis=0)\n",
    "mean_tpr[-1] = 1.0\n",
    "mean_auc = auc(mean_fpr, mean_tpr)\n",
    "std_auc = np.std(aucs)\n",
    "ax.plot(mean_fpr, mean_tpr, color='b',\n",
    "        label=r'Mean ROC (AUC = %0.2f $\\pm$ %0.2f)' % (mean_auc, std_auc),\n",
    "        lw=2, alpha=.8)\n",
    "\n",
    "std_tpr = np.std(tprs, axis=0)\n",
    "tprs_upper = np.minimum(mean_tpr + std_tpr, 1)\n",
    "tprs_lower = np.maximum(mean_tpr - std_tpr, 0)\n",
    "ax.fill_between(mean_fpr, tprs_lower, tprs_upper, color='grey', alpha=.2,\n",
    "                label=r'$\\pm$ 1 std. dev.')\n",
    "\n",
    "ax.set(xlim=[-0.05, 1.05], ylim=[-0.05, 1.05],\n",
    "       title=\"ROC Official website classifier\")\n",
    "ax.legend(loc=\"lower right\")\n",
    "plt.show()"
   ]
  },
  {
   "cell_type": "code",
   "execution_count": null,
   "metadata": {},
   "outputs": [],
   "source": []
  }
 ],
 "metadata": {
  "kernelspec": {
   "display_name": "Python 3",
   "language": "python",
   "name": "python3"
  },
  "language_info": {
   "codemirror_mode": {
    "name": "ipython",
    "version": 3
   },
   "file_extension": ".py",
   "mimetype": "text/x-python",
   "name": "python",
   "nbconvert_exporter": "python",
   "pygments_lexer": "ipython3",
   "version": "3.7.3"
  }
 },
 "nbformat": 4,
 "nbformat_minor": 4
}
